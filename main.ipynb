{
 "cells": [
  {
   "cell_type": "code",
   "execution_count": 2,
   "metadata": {},
   "outputs": [
    {
     "name": "stdout",
     "output_type": "stream",
     "text": [
      "HTML files processed and saved as text.\n"
     ]
    }
   ],
   "source": [
    "import os\n",
    "from bs4 import BeautifulSoup\n",
    "\n",
    "# Source and output directories (replace with actual paths)\n",
    "source_directory = '/home/adam/BlendScriptAI/blender_python_reference_4_0'\n",
    "output_directory = '/home/adam/BlendScriptAI/Text_Files'\n",
    "os.makedirs(output_directory, exist_ok=True)\n",
    "\n",
    "def clean_html(file_path):\n",
    "    with open(file_path, 'r', encoding='utf-8') as file:\n",
    "        html_content = file.read()\n",
    "    soup = BeautifulSoup(html_content, 'html.parser')\n",
    "    # Extract main content\n",
    "    main_content = soup.find('body')  # Adjust this based on actual HTML structure\n",
    "    if not main_content:\n",
    "        return ''\n",
    "\n",
    "    # Process text: strip scripts, styles, and unnecessary tags\n",
    "    for script_or_style in main_content(['script', 'style']):\n",
    "        script_or_style.decompose()\n",
    "    \n",
    "    # Keep code blocks separate if needed (adjust based on actual HTML structure)\n",
    "    text_parts = []\n",
    "    for elem in main_content.descendants:\n",
    "        if elem.name == 'code':  # Assuming 'code' tags for code snippets\n",
    "            text_parts.append('CODE: ' + elem.get_text())\n",
    "        elif elem.string and not elem.string.isspace():\n",
    "            text_parts.append(elem.string.strip())\n",
    "\n",
    "    return ' '.join(text_parts)\n",
    "\n",
    "# Process all HTML files\n",
    "for filename in os.listdir(source_directory):\n",
    "    if filename.endswith('.html'):\n",
    "        file_path = os.path.join(source_directory, filename)\n",
    "        cleaned_text = clean_html(file_path)\n",
    "\n",
    "        # Save as .txt file\n",
    "        output_file_name = os.path.splitext(filename)[0] + '.txt'\n",
    "        output_file_path = os.path.join(output_directory, output_file_name)\n",
    "        with open(output_file_path, 'w', encoding='utf-8') as file:\n",
    "            file.write(cleaned_text)\n",
    "\n",
    "print(\"HTML files processed and saved as text.\")"
   ]
  }
 ],
 "metadata": {
  "kernelspec": {
   "display_name": "torch",
   "language": "python",
   "name": "python3"
  },
  "language_info": {
   "codemirror_mode": {
    "name": "ipython",
    "version": 3
   },
   "file_extension": ".py",
   "mimetype": "text/x-python",
   "name": "python",
   "nbconvert_exporter": "python",
   "pygments_lexer": "ipython3",
   "version": "3.11.3"
  }
 },
 "nbformat": 4,
 "nbformat_minor": 2
}
