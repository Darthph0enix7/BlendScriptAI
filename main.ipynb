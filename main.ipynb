{
 "cells": [
  {
   "cell_type": "code",
   "execution_count": 1,
   "metadata": {},
   "outputs": [],
   "source": [
    "import os\n",
    "from bs4 import BeautifulSoup\n",
    "\n",
    "# Directory containing your HTML files\n",
    "source_directory = '/home/adam/BlendScriptAI/blender_python_reference_4_0'\n",
    "\n",
    "# Directory to save the cleaned text files\n",
    "output_directory = '/home/adam/BlendScriptAI/Text_Files'\n",
    "os.makedirs(output_directory, exist_ok=True)\n",
    "\n",
    "def clean_html(file_path):\n",
    "    with open(file_path, 'r', encoding='utf-8') as file:\n",
    "        html_content = file.read()\n",
    "    soup = BeautifulSoup(html_content, 'html.parser')\n",
    "    return soup.get_text(separator=' ', strip=True)\n",
    "\n",
    "# Loop through all files in the source directory\n",
    "for filename in os.listdir(source_directory):\n",
    "    if filename.endswith('.html'):\n",
    "        file_path = os.path.join(source_directory, filename)\n",
    "        cleaned_text = clean_html(file_path)\n",
    "\n",
    "        # Save the cleaned text\n",
    "        output_file_path = os.path.join(output_directory, filename)\n",
    "        with open(output_file_path, 'w', encoding='utf-8') as file:\n",
    "            file.write(cleaned_text)\n",
    "\n",
    "print(\"All HTML files have been processed and saved.\")"
   ]
  }
 ],
 "metadata": {
  "kernelspec": {
   "display_name": "torch",
   "language": "python",
   "name": "python3"
  },
  "language_info": {
   "codemirror_mode": {
    "name": "ipython",
    "version": 3
   },
   "file_extension": ".py",
   "mimetype": "text/x-python",
   "name": "python",
   "nbconvert_exporter": "python",
   "pygments_lexer": "ipython3",
   "version": "3.11.3"
  }
 },
 "nbformat": 4,
 "nbformat_minor": 2
}
